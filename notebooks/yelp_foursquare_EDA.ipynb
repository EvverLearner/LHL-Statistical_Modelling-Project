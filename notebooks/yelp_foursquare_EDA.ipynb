{
 "cells": [
  {
   "cell_type": "code",
   "execution_count": null,
   "metadata": {
    "tags": []
   },
   "outputs": [],
   "source": [
    "# imports\n",
    "import requests\n",
    "import os\n",
    "import json\n",
    "import pandas as pd"
   ]
  },
  {
   "cell_type": "markdown",
   "metadata": {},
   "source": [
    "# Foursquare"
   ]
  },
  {
   "cell_type": "markdown",
   "metadata": {},
   "source": [
    "Send a request to Foursquare with a small radius (1000m) for all the bike stations in your city of choice. "
   ]
  },
  {
   "cell_type": "code",
   "execution_count": null,
   "metadata": {
    "tags": []
   },
   "outputs": [],
   "source": [
    "key = os.environ[\"FOURSQUARE_KEY\"]\n",
    "headers = {\n",
    "    \"accept\": \"application/json\",\n",
    "    \"Authorization\": key\n",
    "}\n",
    "\n",
    "foursquare_poi = {}\n",
    "\n",
    "for station in stations[:250]: # Using 250 stations for processing time\n",
    "    url = \"https://api.foursquare.com/v3/places/search?ll=\" + str(station[\"latitude\"]) + \"%2C\" + str(station[\"longitude\"]) + \"&radius=1000&fields=name,categories,location,distance,rating&sort=RELEVANCE\"\n",
    "    response = json.loads(requests.get(url, headers=headers).text)\n",
    "    foursquare_poi[station[\"station_name\"]] = response\n",
    "\n",
    "print(foursquare_poi)"
   ]
  },
  {
   "cell_type": "markdown",
   "metadata": {},
   "source": [
    "Parse through the response to get the POI (such as restaurants, bars, etc) details you want (ratings, name, location, etc)"
   ]
  },
  {
   "cell_type": "code",
   "execution_count": null,
   "metadata": {
    "tags": []
   },
   "outputs": [],
   "source": [
    "clean_foursquare_poi = []\n",
    "\n",
    "for station in foursquare_poi:\n",
    "    for poi in foursquare_poi[station][\"results\"]:\n",
    "        clean_foursquare_poi.append(\n",
    "            {\n",
    "                \"station_name\": station,\n",
    "                \"station_distance_(m)\": poi[\"distance\"],\n",
    "                \"loc_address\": poi[\"location\"][\"formatted_address\"],\n",
    "                \"loc_name\": poi[\"name\"],\n",
    "                \"loc_category\": poi[\"categories\"][0][\"name\"],\n",
    "                \"loc_rating\": poi.get(\"rating\", None)\n",
    "            }\n",
    "        )"
   ]
  },
  {
   "cell_type": "markdown",
   "metadata": {},
   "source": [
    "Put your parsed results into a DataFrame"
   ]
  },
  {
   "cell_type": "code",
   "execution_count": null,
   "metadata": {
    "tags": []
   },
   "outputs": [],
   "source": [
    "foursquare_df = pd.DataFrame(clean_foursquare_poi)\n",
    "foursquare_df"
   ]
  },
  {
   "cell_type": "markdown",
   "metadata": {},
   "source": [
    "# Yelp"
   ]
  },
  {
   "cell_type": "markdown",
   "metadata": {},
   "source": [
    "Send a request to Yelp with a small radius (1000m) for all the bike stations in your city of choice. "
   ]
  },
  {
   "cell_type": "code",
   "execution_count": null,
   "metadata": {
    "tags": []
   },
   "outputs": [],
   "source": [
    "key = os.environ[\"YELP_KEY\"]\n",
    "headers = {\n",
    "    \"accept\": \"application/json\",\n",
    "    \"Authorization\": f\"Bearer {key}\"\n",
    "}\n",
    "\n",
    "yelp_poi = {}\n",
    "\n",
    "for station in stations[:250]:\n",
    "    url = \"https://api.yelp.com/v3/businesses/search?latitude=\" + str(station[\"latitude\"]) + \"&longitude=\" + str(station[\"longitude\"]) + \"&radius=1000&categories=&sort_by=best_match&limit=10\" # Match Foursquare default limit of 10\n",
    "    response = json.loads(requests.get(url, headers=headers).text)\n",
    "    yelp_poi[station[\"station_name\"]] = response\n",
    "\n",
    "print(yelp_poi)"
   ]
  },
  {
   "cell_type": "markdown",
   "metadata": {},
   "source": [
    "Parse through the response to get the POI (such as restaurants, bars, etc) details you want (ratings, name, location, etc)"
   ]
  },
  {
   "cell_type": "code",
   "execution_count": null,
   "metadata": {
    "tags": []
   },
   "outputs": [],
   "source": [
    "clean_yelp_poi = []\n",
    "\n",
    "for station in yelp_poi:\n",
    "    for poi in yelp_poi[station][\"businesses\"]:\n",
    "        clean_yelp_poi.append(\n",
    "            {\n",
    "                \"station_name\": station,\n",
    "                \"station_distance_(m)\": round(poi[\"distance\"]),\n",
    "                \"loc_address\": poi[\"location\"][\"address1\"],\n",
    "                \"loc_name\": poi[\"name\"],\n",
    "                \"loc_category\": poi[\"categories\"][0][\"title\"],\n",
    "                \"loc_rating\": poi[\"rating\"]\n",
    "            }\n",
    "        )"
   ]
  },
  {
   "cell_type": "markdown",
   "metadata": {},
   "source": [
    "Put your parsed results into a DataFrame"
   ]
  },
  {
   "cell_type": "code",
   "execution_count": null,
   "metadata": {
    "tags": []
   },
   "outputs": [],
   "source": [
    "yelp_df = pd.DataFrame(clean_yelp_poi)\n",
    "yelp_df"
   ]
  },
  {
   "cell_type": "markdown",
   "metadata": {},
   "source": [
    "# Comparing Results"
   ]
  },
  {
   "cell_type": "markdown",
   "metadata": {},
   "source": [
    "Which API provided you with more complete data? Provide an explanation. "
   ]
  },
  {
   "cell_type": "markdown",
   "metadata": {},
   "source": [
    "'''\n",
    "\n",
    "Both APIs actually provided enough data for the information relevant to what I am comparing. By using the API parameters and field filtering, I can find the name, location, rating, etc. for all POIs. However, the rating scale provided by the APIs is different; Foursquare provides ratings on a scale /10, whereas Yelp uses a rating scale /5. This will make it difficult to compare the ratings of POIs that are sourced from different APIs.\n",
    "\n",
    "'''"
   ]
  },
  {
   "cell_type": "markdown",
   "metadata": {},
   "source": [
    "Get the top 10 restaurants according to their rating"
   ]
  },
  {
   "cell_type": "code",
   "execution_count": null,
   "metadata": {
    "tags": []
   },
   "outputs": [],
   "source": [
    "foursquare_restaurants = foursquare_df.loc[foursquare_df[\"loc_category\"] == \"Restaurant\"]\n",
    "foursquare_restaurants = foursquare_restaurants.sort_values(by=\"loc_rating\", ascending=False)\n",
    "foursquare_restaurants.head(10)"
   ]
  },
  {
   "cell_type": "code",
   "execution_count": null,
   "metadata": {
    "tags": []
   },
   "outputs": [],
   "source": [
    "restaurants = [\"Restaurant\", \"Chinese\", \"Lebanese\", \"Vietnamese\", \"Italian\", \"British\", \"Pizza\", \"Turkish\", \"Sandwiches\"] # The Yelp API doesn't categorize restaurants as a general term\n",
    "\n",
    "yelp_restaurants = yelp_df.loc[yelp_df[\"loc_category\"].isin(restaurants)]\n",
    "yelp_restaurants = yelp_restaurants.sort_values(by=\"loc_rating\", ascending=False)\n",
    "yelp_restaurants.head(10)"
   ]
  }
 ],
 "metadata": {
  "kernelspec": {
   "display_name": "Python 3 (ipykernel)",
   "language": "python",
   "name": "python3"
  },
  "language_info": {
   "codemirror_mode": {
    "name": "ipython",
    "version": 3
   },
   "file_extension": ".py",
   "mimetype": "text/x-python",
   "name": "python",
   "nbconvert_exporter": "python",
   "pygments_lexer": "ipython3",
   "version": "3.11.5"
  }
 },
 "nbformat": 4,
 "nbformat_minor": 4
}
