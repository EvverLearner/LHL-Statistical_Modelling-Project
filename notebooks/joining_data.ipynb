{
 "cells": [
  {
   "cell_type": "markdown",
   "metadata": {},
   "source": [
    "Join the data from Part 1 with the data from Part 2 to create a new dataframe."
   ]
  },
  {
   "cell_type": "code",
   "execution_count": null,
   "metadata": {
    "tags": []
   },
   "outputs": [],
   "source": [
    "import numpy as np\n",
    "import matplotlib.pyplot as plt\n",
    "import seaborn as sns\n",
    "import sqlite3 as sql"
   ]
  },
  {
   "cell_type": "code",
   "execution_count": null,
   "metadata": {
    "tags": []
   },
   "outputs": [],
   "source": [
    "yelp_df[\"loc_rating\"] *= 2 # Converting an /5 rating to /10, this is probably inaccurate\n",
    "\n",
    "all_poi_df = pd.concat([foursquare_df, yelp_df])\n",
    "all_poi_df"
   ]
  },
  {
   "cell_type": "code",
   "execution_count": null,
   "metadata": {
    "tags": []
   },
   "outputs": [],
   "source": [
    "def count_unique_values(column):\n",
    "    return column.nunique()\n",
    "\n",
    "grouped_all_poi_df = all_poi_df.groupby(\"station_name\", as_index=False).agg({\"station_distance_(m)\": np.mean, \"loc_address\": count_unique_values, \"loc_category\": count_unique_values, \"loc_rating\": np.mean})\n",
    "grouped_all_poi_df = grouped_all_poi_df.rename(columns={\"station_distance_(m)\": \"avg_distance_(m)\", \"loc_address\": \"num_locations\", \"loc_category\": \"loc_types\", \"loc_rating\": \"avg_rating\"})\n",
    "grouped_all_poi_df"
   ]
  },
  {
   "cell_type": "code",
   "execution_count": null,
   "metadata": {
    "tags": []
   },
   "outputs": [],
   "source": [
    "all_data_df = pd.merge(stations_df, grouped_all_poi_df, on=\"station_name\")\n",
    "all_data_df"
   ]
  },
  {
   "cell_type": "markdown",
   "metadata": {},
   "source": [
    "Provide a visualization that you used as part of your EDA process. Explain the initial pattern or relationship you discoved through this visualization. "
   ]
  },
  {
   "cell_type": "code",
   "execution_count": null,
   "metadata": {
    "tags": []
   },
   "outputs": [],
   "source": [
    "# Histrogram to see distribution of number of available bikes across all bike stations\n",
    "plt.hist(all_data_df[\"free_bikes\"], bins=35, color=\"green\")\n",
    "plt.xlabel(\"Available Bikes\")\n",
    "plt.ylabel(\"Stations\")\n",
    "sns.set_style(\"dark\")\n",
    "plt.show()"
   ]
  },
  {
   "cell_type": "code",
   "execution_count": null,
   "metadata": {
    "tags": []
   },
   "outputs": [],
   "source": [
    "# Scatterplot measuring available bikes based on average distance of POIs\n",
    "plt.scatter(all_data_df[\"avg_distance_(m)\"], all_data_df[\"free_bikes\"])\n",
    "plt.xlabel('Average Distance from Station(m)')\n",
    "plt.ylabel('Available Bikes')\n",
    "plt.xticks(fontsize=9)\n",
    "plt.yticks(fontsize=9)\n",
    "plt.title(\"Free Bikes based on Distance\")\n",
    "sns.set_theme()\n",
    "sns.set_style(\"dark\")\n",
    "\n",
    "plt.show()"
   ]
  },
  {
   "cell_type": "code",
   "execution_count": null,
   "metadata": {},
   "outputs": [],
   "source": [
    "# Scatterplot measuring available bikes based on average rating of POIs\n",
    "plt.scatter(all_data_df[\"avg_rating\"], all_data_df[\"free_bikes\"])\n",
    "plt.xlabel('Average Rating')\n",
    "plt.ylabel('Available Bikes')\n",
    "plt.title(\"Free Bikes based on Rating\")\n",
    "plt.xticks(fontsize=9)\n",
    "plt.yticks(fontsize=9)\n",
    "sns.set_theme()\n",
    "sns.set_style(\"dark\")\n",
    "\n",
    "plt.show()"
   ]
  },
  {
   "cell_type": "code",
   "execution_count": null,
   "metadata": {},
   "outputs": [],
   "source": [
    "'''\n",
    "\n",
    "Initial viewing of the visualized data doesn't show an immediately obvious pattern. Looking at the histogram, while there is not a strong curve yet in the visual, the shape of one is starting to appear.\n",
    "A bike station is most likely to have 12 available bikes at a time. By comparing that information to the scatterplots, it seems there is a relationship between available bikes and distance, where stations with closer POIs have less\n",
    "available bikes (<12), perhaps since they are being used more. Similarly, the relationship between available bikes and distance seems to show that there are less available bikes at stations where many POIs have a high rating, also perhaps\n",
    "since they are being used by people attending those places. The visualizations could be improved with a larger data sample.\n",
    "\n",
    "'''"
   ]
  },
  {
   "cell_type": "markdown",
   "metadata": {},
   "source": [
    "# Database"
   ]
  },
  {
   "cell_type": "markdown",
   "metadata": {},
   "source": [
    "Put all your results in an SQLite3 database (remember, SQLite stores its databases as files in your local machine - make sure to create your database in your project's data/ directory!)"
   ]
  },
  {
   "cell_type": "code",
   "execution_count": null,
   "metadata": {
    "tags": []
   },
   "outputs": [],
   "source": [
    "path = \"../data/\"\n",
    "db = path + \"poi.db\"\n",
    "conn = sql.connect(db)\n",
    "cursor = conn.cursor()\n",
    "\n",
    "foursquare_df.to_sql(\"foursquare_poi\", conn, index=False, if_exists=\"replace\")\n",
    "yelp_df.to_sql(\"yelp_poi\", conn, index=False, if_exists=\"replace\")\n",
    "all_poi_df.to_sql(\"all_poi\", conn, index=False, if_exists=\"replace\")\n",
    "all_data_df.to_sql(\"all_data\", conn, index=False, if_exists=\"replace\")\n",
    "conn.commit()"
   ]
  },
  {
   "cell_type": "markdown",
   "metadata": {},
   "source": [
    "Look at the data before and after the join to validate your data."
   ]
  },
  {
   "cell_type": "code",
   "execution_count": null,
   "metadata": {
    "tags": []
   },
   "outputs": [],
   "source": [
    "validation = '''\n",
    "WITH pre_join AS(\n",
    "SELECT * FROM foursquare_poi \n",
    "UNION \n",
    "SELECT * FROM yelp_poi\n",
    ")\n",
    "\n",
    "SELECT *\n",
    "FROM all_poi,\n",
    "     pre_join\n",
    "WHERE all_poi.loc_name != pre_join.loc_name\n",
    "'''\n",
    "\n",
    "cursor.execute(validation)\n",
    "validation_results = cursor.fetchall()\n",
    "\n",
    "for result in validation_results:\n",
    "    print(result)\n",
    "\n",
    "cursor.close()\n",
    "conn.close()"
   ]
  }
 ],
 "metadata": {
  "kernelspec": {
   "display_name": "Python 3 (ipykernel)",
   "language": "python",
   "name": "python3"
  },
  "language_info": {
   "codemirror_mode": {
    "name": "ipython",
    "version": 3
   },
   "file_extension": ".py",
   "mimetype": "text/x-python",
   "name": "python",
   "nbconvert_exporter": "python",
   "pygments_lexer": "ipython3",
   "version": "3.11.5"
  }
 },
 "nbformat": 4,
 "nbformat_minor": 4
}
