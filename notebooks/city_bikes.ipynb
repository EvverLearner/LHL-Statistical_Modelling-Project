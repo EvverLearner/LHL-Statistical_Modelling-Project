{
 "cells": [
  {
   "cell_type": "markdown",
   "metadata": {},
   "source": [
    "# CityBikes"
   ]
  },
  {
   "cell_type": "markdown",
   "metadata": {},
   "source": [
    "Send a request to CityBikes for the city of your choice. "
   ]
  },
  {
   "cell_type": "code",
   "execution_count": null,
   "metadata": {
    "tags": []
   },
   "outputs": [],
   "source": [
    "import requests\n",
    "import json\n",
    "import pandas as pd"
   ]
  },
  {
   "cell_type": "code",
   "execution_count": null,
   "metadata": {
    "tags": []
   },
   "outputs": [],
   "source": [
    "def get_data(url):\n",
    "    request_data = requests.get(url)\n",
    "    return request_data"
   ]
  },
  {
   "cell_type": "code",
   "execution_count": null,
   "metadata": {
    "tags": []
   },
   "outputs": [],
   "source": [
    "url = \"http://api.citybik.es/v2/networks\"\n",
    "data = json.loads(get_data(url).text)\n",
    "\n",
    "for bike_network in data[\"networks\"]:\n",
    "    if bike_network[\"location\"][\"city\"].capitalize() == \"London\":\n",
    "        print(bike_network) # Provides the href to view the network through the API"
   ]
  },
  {
   "cell_type": "markdown",
   "metadata": {},
   "source": [
    "Parse through the response to get the details you want for the bike stations in that city (latitude, longitude, number of bikes). "
   ]
  },
  {
   "cell_type": "code",
   "execution_count": null,
   "metadata": {
    "tags": []
   },
   "outputs": [],
   "source": [
    "url = \"https://api.citybik.es/v2/networks/santander-cycles\"\n",
    "data = json.loads(get_data(url).text)\n",
    "\n",
    "stations = []\n",
    "\n",
    "for station in data[\"network\"][\"stations\"]:\n",
    "    stations.append(\n",
    "        {\n",
    "        \"station_name\": station[\"name\"],\n",
    "        \"latitude\": station[\"latitude\"],\n",
    "        \"longitude\": station[\"longitude\"],\n",
    "         \"free_bikes\": station[\"free_bikes\"]\n",
    "        }\n",
    "    )\n",
    "    \n",
    "print(stations)"
   ]
  },
  {
   "cell_type": "markdown",
   "metadata": {},
   "source": [
    "Put your parsed results into a DataFrame."
   ]
  },
  {
   "cell_type": "code",
   "execution_count": null,
   "metadata": {
    "tags": []
   },
   "outputs": [],
   "source": [
    "stations_df = pd.DataFrame(stations)\n",
    "stations_df"
   ]
  }
 ],
 "metadata": {
  "kernelspec": {
   "display_name": "Python 3 (ipykernel)",
   "language": "python",
   "name": "python3"
  },
  "language_info": {
   "codemirror_mode": {
    "name": "ipython",
    "version": 3
   },
   "file_extension": ".py",
   "mimetype": "text/x-python",
   "name": "python",
   "nbconvert_exporter": "python",
   "pygments_lexer": "ipython3",
   "version": "3.11.5"
  }
 },
 "nbformat": 4,
 "nbformat_minor": 4
}
