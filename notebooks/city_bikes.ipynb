{
 "cells": [
  {
   "cell_type": "markdown",
   "metadata": {},
   "source": [
    "# CityBikes"
   ]
  },
  {
   "cell_type": "markdown",
   "metadata": {},
   "source": [
    "Send a request to CityBikes for the city of your choice. "
   ]
  },
  {
   "cell_type": "code",
   "execution_count": 1,
   "metadata": {
    "tags": []
   },
   "outputs": [],
   "source": [
    "import requests\n",
    "import json\n",
    "import pandas as pd"
   ]
  },
  {
   "cell_type": "code",
   "execution_count": 2,
   "metadata": {
    "tags": []
   },
   "outputs": [],
   "source": [
    "def get_data(url):\n",
    "    request_data = requests.get(url)\n",
    "    return request_data"
   ]
  },
  {
   "cell_type": "code",
   "execution_count": 3,
   "metadata": {
    "tags": []
   },
   "outputs": [
    {
     "name": "stdout",
     "output_type": "stream",
     "text": [
      "{'company': ['PBSC', 'Serco Group plc'], 'href': '/v2/networks/santander-cycles', 'id': 'santander-cycles', 'location': {'city': 'London', 'country': 'GB', 'latitude': 51.51121389999999, 'longitude': -0.1198244}, 'name': 'Santander Cycles'}\n"
     ]
    }
   ],
   "source": [
    "url = \"http://api.citybik.es/v2/networks\"\n",
    "data = json.loads(get_data(url).text)\n",
    "\n",
    "for bike_network in data[\"networks\"]:\n",
    "    if bike_network[\"location\"][\"city\"].capitalize() == \"London\":\n",
    "        print(bike_network) # Provides the href to view the network through the API"
   ]
  },
  {
   "cell_type": "markdown",
   "metadata": {},
   "source": [
    "Parse through the response to get the details you want for the bike stations in that city (latitude, longitude, number of bikes). "
   ]
  },
  {
   "cell_type": "code",
   "execution_count": null,
   "metadata": {
    "tags": []
   },
   "outputs": [],
   "source": [
    "url = \"https://api.citybik.es/v2/networks/santander-cycles\"\n",
    "data = json.loads(get_data(url).text)\n",
    "\n",
    "stations = []\n",
    "\n",
    "for station in data[\"network\"][\"stations\"]:\n",
    "    stations.append(\n",
    "        {\n",
    "        \"station_name\": station[\"name\"],\n",
    "        \"latitude\": station[\"latitude\"],\n",
    "        \"longitude\": station[\"longitude\"],\n",
    "         \"free_bikes\": station[\"free_bikes\"]\n",
    "        }\n",
    "    )\n",
    "    \n",
    "print(stations)"
   ]
  },
  {
   "cell_type": "markdown",
   "metadata": {},
   "source": [
    "Put your parsed results into a DataFrame."
   ]
  },
  {
   "cell_type": "code",
   "execution_count": 5,
   "metadata": {
    "tags": []
   },
   "outputs": [
    {
     "data": {
      "text/html": [
       "<div>\n",
       "<style scoped>\n",
       "    .dataframe tbody tr th:only-of-type {\n",
       "        vertical-align: middle;\n",
       "    }\n",
       "\n",
       "    .dataframe tbody tr th {\n",
       "        vertical-align: top;\n",
       "    }\n",
       "\n",
       "    .dataframe thead th {\n",
       "        text-align: right;\n",
       "    }\n",
       "</style>\n",
       "<table border=\"1\" class=\"dataframe\">\n",
       "  <thead>\n",
       "    <tr style=\"text-align: right;\">\n",
       "      <th></th>\n",
       "      <th>station_name</th>\n",
       "      <th>latitude</th>\n",
       "      <th>longitude</th>\n",
       "      <th>free_bikes</th>\n",
       "    </tr>\n",
       "  </thead>\n",
       "  <tbody>\n",
       "    <tr>\n",
       "      <th>0</th>\n",
       "      <td>001023 - River Street , Clerkenwell</td>\n",
       "      <td>51.529163</td>\n",
       "      <td>-0.109971</td>\n",
       "      <td>7</td>\n",
       "    </tr>\n",
       "    <tr>\n",
       "      <th>1</th>\n",
       "      <td>001018 - Phillimore Gardens, Kensington</td>\n",
       "      <td>51.499607</td>\n",
       "      <td>-0.197574</td>\n",
       "      <td>14</td>\n",
       "    </tr>\n",
       "    <tr>\n",
       "      <th>2</th>\n",
       "      <td>001024 - Park Street, Bankside</td>\n",
       "      <td>51.505974</td>\n",
       "      <td>-0.092754</td>\n",
       "      <td>16</td>\n",
       "    </tr>\n",
       "    <tr>\n",
       "      <th>3</th>\n",
       "      <td>001022 - Brunswick Square, Bloomsbury</td>\n",
       "      <td>51.523951</td>\n",
       "      <td>-0.122502</td>\n",
       "      <td>20</td>\n",
       "    </tr>\n",
       "    <tr>\n",
       "      <th>4</th>\n",
       "      <td>000980 - Malet Street, Bloomsbury</td>\n",
       "      <td>51.521681</td>\n",
       "      <td>-0.130432</td>\n",
       "      <td>15</td>\n",
       "    </tr>\n",
       "    <tr>\n",
       "      <th>...</th>\n",
       "      <td>...</td>\n",
       "      <td>...</td>\n",
       "      <td>...</td>\n",
       "      <td>...</td>\n",
       "    </tr>\n",
       "    <tr>\n",
       "      <th>794</th>\n",
       "      <td>001193 - Kensington Gore, Knightsbridge</td>\n",
       "      <td>51.501433</td>\n",
       "      <td>-0.178657</td>\n",
       "      <td>2</td>\n",
       "    </tr>\n",
       "    <tr>\n",
       "      <th>795</th>\n",
       "      <td>200074 - Bury Place, Holborn</td>\n",
       "      <td>51.517420</td>\n",
       "      <td>-0.123190</td>\n",
       "      <td>1</td>\n",
       "    </tr>\n",
       "    <tr>\n",
       "      <th>796</th>\n",
       "      <td>001197 - Sackville Street, Mayfair</td>\n",
       "      <td>51.510048</td>\n",
       "      <td>-0.138846</td>\n",
       "      <td>3</td>\n",
       "    </tr>\n",
       "    <tr>\n",
       "      <th>797</th>\n",
       "      <td>001204 - Queen's Gate (North), Kensington</td>\n",
       "      <td>51.501027</td>\n",
       "      <td>-0.180246</td>\n",
       "      <td>0</td>\n",
       "    </tr>\n",
       "    <tr>\n",
       "      <th>798</th>\n",
       "      <td>003442 - Abingdon Villas, Kensington</td>\n",
       "      <td>51.497388</td>\n",
       "      <td>-0.197246</td>\n",
       "      <td>4</td>\n",
       "    </tr>\n",
       "  </tbody>\n",
       "</table>\n",
       "<p>799 rows × 4 columns</p>\n",
       "</div>"
      ],
      "text/plain": [
       "                                  station_name   latitude  longitude  \\\n",
       "0          001023 - River Street , Clerkenwell  51.529163  -0.109971   \n",
       "1      001018 - Phillimore Gardens, Kensington  51.499607  -0.197574   \n",
       "2               001024 - Park Street, Bankside  51.505974  -0.092754   \n",
       "3        001022 - Brunswick Square, Bloomsbury  51.523951  -0.122502   \n",
       "4            000980 - Malet Street, Bloomsbury  51.521681  -0.130432   \n",
       "..                                         ...        ...        ...   \n",
       "794    001193 - Kensington Gore, Knightsbridge  51.501433  -0.178657   \n",
       "795               200074 - Bury Place, Holborn  51.517420  -0.123190   \n",
       "796         001197 - Sackville Street, Mayfair  51.510048  -0.138846   \n",
       "797  001204 - Queen's Gate (North), Kensington  51.501027  -0.180246   \n",
       "798       003442 - Abingdon Villas, Kensington  51.497388  -0.197246   \n",
       "\n",
       "     free_bikes  \n",
       "0             7  \n",
       "1            14  \n",
       "2            16  \n",
       "3            20  \n",
       "4            15  \n",
       "..          ...  \n",
       "794           2  \n",
       "795           1  \n",
       "796           3  \n",
       "797           0  \n",
       "798           4  \n",
       "\n",
       "[799 rows x 4 columns]"
      ]
     },
     "execution_count": 5,
     "metadata": {},
     "output_type": "execute_result"
    }
   ],
   "source": [
    "stations_df = pd.DataFrame(stations)\n",
    "stations_df"
   ]
  }
 ],
 "metadata": {
  "kernelspec": {
   "display_name": "Python 3 (ipykernel)",
   "language": "python",
   "name": "python3"
  },
  "language_info": {
   "codemirror_mode": {
    "name": "ipython",
    "version": 3
   },
   "file_extension": ".py",
   "mimetype": "text/x-python",
   "name": "python",
   "nbconvert_exporter": "python",
   "pygments_lexer": "ipython3",
   "version": "3.11.5"
  }
 },
 "nbformat": 4,
 "nbformat_minor": 4
}
