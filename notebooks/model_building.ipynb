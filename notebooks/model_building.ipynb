{
 "cells": [
  {
   "cell_type": "markdown",
   "metadata": {},
   "source": [
    "Build a regression model."
   ]
  },
  {
   "cell_type": "code",
   "execution_count": 27,
   "metadata": {
    "tags": []
   },
   "outputs": [],
   "source": [
    "import statsmodels.api as sm"
   ]
  },
  {
   "cell_type": "code",
   "execution_count": 28,
   "metadata": {
    "tags": []
   },
   "outputs": [
    {
     "name": "stdout",
     "output_type": "stream",
     "text": [
      "                            OLS Regression Results                            \n",
      "==============================================================================\n",
      "Dep. Variable:             free_bikes   R-squared:                       0.059\n",
      "Model:                            OLS   Adj. R-squared:                  0.055\n",
      "Method:                 Least Squares   F-statistic:                     15.60\n",
      "Date:                Wed, 29 Nov 2023   Prob (F-statistic):           0.000102\n",
      "Time:                        19:53:05   Log-Likelihood:                -901.86\n",
      "No. Observations:                 250   AIC:                             1808.\n",
      "Df Residuals:                     248   BIC:                             1815.\n",
      "Df Model:                           1                                         \n",
      "Covariance Type:            nonrobust                                         \n",
      "==============================================================================\n",
      "                 coef    std err          t      P>|t|      [0.025      0.975]\n",
      "------------------------------------------------------------------------------\n",
      "const         91.0921     19.547      4.660      0.000      52.592     129.592\n",
      "avg_rating    -9.1725      2.322     -3.950      0.000     -13.746      -4.599\n",
      "==============================================================================\n",
      "Omnibus:                       11.232   Durbin-Watson:                   2.057\n",
      "Prob(Omnibus):                  0.004   Jarque-Bera (JB):               11.799\n",
      "Skew:                           0.532   Prob(JB):                      0.00274\n",
      "Kurtosis:                       3.041   Cond. No.                         295.\n",
      "==============================================================================\n",
      "\n",
      "Notes:\n",
      "[1] Standard Errors assume that the covariance matrix of the errors is correctly specified.\n"
     ]
    }
   ],
   "source": [
    "X = all_data_df[\"avg_rating\"]\n",
    "y = all_data_df[\"free_bikes\"]\n",
    "\n",
    "X = sm.add_constant(X)\n",
    "lin_reg = sm.OLS(y, X)\n",
    "model = lin_reg.fit()\n",
    "print(model.summary())"
   ]
  },
  {
   "cell_type": "markdown",
   "metadata": {},
   "source": [
    "Provide model output and an interpretation of the results. "
   ]
  },
  {
   "cell_type": "code",
   "execution_count": null,
   "metadata": {},
   "outputs": [],
   "source": [
    "'''\n",
    "\n",
    "This model is comparing the amount of available bikes at stations in relation to the average rating of POIs that are near them. The output shows a P-value of 0, which indicates a strong correlation between these compared variables.\n",
    "However, the R-squared value indicates that the model is only 6% accurate; this means that the model and any conclusions made from it do not indicate a plausible correlation. The low P-value is interesting though, since it tells us\n",
    "that stations located near POIs that are more highly rated, will probably have less available bikes. This can potentially be due to the higher traffic and overall business of areas that are high-rated, and so it is more likely that\n",
    "there will be someone nearby who needs to use a bike.\n",
    "\n",
    "'''"
   ]
  },
  {
   "cell_type": "markdown",
   "metadata": {},
   "source": [
    "# Stretch"
   ]
  },
  {
   "cell_type": "markdown",
   "metadata": {},
   "source": [
    "How can you turn the regression model into a classification model?"
   ]
  },
  {
   "cell_type": "code",
   "execution_count": null,
   "metadata": {},
   "outputs": [],
   "source": []
  }
 ],
 "metadata": {
  "kernelspec": {
   "display_name": "Python 3 (ipykernel)",
   "language": "python",
   "name": "python3"
  },
  "language_info": {
   "codemirror_mode": {
    "name": "ipython",
    "version": 3
   },
   "file_extension": ".py",
   "mimetype": "text/x-python",
   "name": "python",
   "nbconvert_exporter": "python",
   "pygments_lexer": "ipython3",
   "version": "3.11.5"
  }
 },
 "nbformat": 4,
 "nbformat_minor": 4
}
