{
 "cells": [
  {
   "cell_type": "markdown",
   "metadata": {},
   "source": [
    "Build a regression model."
   ]
  },
  {
   "cell_type": "code",
   "execution_count": null,
   "metadata": {
    "tags": []
   },
   "outputs": [],
   "source": [
    "import statsmodels.api as sm"
   ]
  },
  {
   "cell_type": "code",
   "execution_count": null,
   "metadata": {
    "tags": []
   },
   "outputs": [],
   "source": [
    "X = all_data_df[\"avg_rating\"]\n",
    "y = all_data_df[\"free_bikes\"]\n",
    "\n",
    "X = sm.add_constant(X)\n",
    "lin_reg = sm.OLS(y, X)\n",
    "model = lin_reg.fit()\n",
    "print(model.summary())"
   ]
  },
  {
   "cell_type": "markdown",
   "metadata": {},
   "source": [
    "Provide model output and an interpretation of the results. "
   ]
  },
  {
   "cell_type": "code",
   "execution_count": null,
   "metadata": {},
   "outputs": [],
   "source": [
    "'''\n",
    "\n",
    "This model is comparing the amount of available bikes at stations in relation to the average rating of POIs that are near them. The output shows a P-value of 0, which indicates a strong correlation between these compared variables.\n",
    "However, the R-squared value indicates that the model is only 7% accurate; this means that the model and any conclusions made from it do not indicate a plausible correlation. The low P-value is interesting though, since it tells us\n",
    "that stations located near POIs that are more highly rated, will probably have less available bikes. This can potentially be due to the higher traffic and overall business of areas that are high-rated, and so it is more likely that\n",
    "there will be someone nearby who needs to use a bike.\n",
    "\n",
    "'''"
   ]
  },
  {
   "cell_type": "markdown",
   "metadata": {},
   "source": [
    "# Stretch"
   ]
  },
  {
   "cell_type": "markdown",
   "metadata": {},
   "source": [
    "How can you turn the regression model into a classification model?"
   ]
  },
  {
   "cell_type": "code",
   "execution_count": null,
   "metadata": {},
   "outputs": [],
   "source": []
  }
 ],
 "metadata": {
  "kernelspec": {
   "display_name": "Python 3 (ipykernel)",
   "language": "python",
   "name": "python3"
  },
  "language_info": {
   "codemirror_mode": {
    "name": "ipython",
    "version": 3
   },
   "file_extension": ".py",
   "mimetype": "text/x-python",
   "name": "python",
   "nbconvert_exporter": "python",
   "pygments_lexer": "ipython3",
   "version": "3.11.5"
  }
 },
 "nbformat": 4,
 "nbformat_minor": 4
}
